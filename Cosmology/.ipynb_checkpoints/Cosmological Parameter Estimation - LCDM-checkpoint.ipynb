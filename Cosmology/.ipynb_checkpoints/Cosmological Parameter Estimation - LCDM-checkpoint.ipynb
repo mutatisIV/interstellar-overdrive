{
 "cells": [
  {
   "cell_type": "markdown",
   "metadata": {},
   "source": [
    "## Bayesian Inference Cosmology\n",
    "\n",
    "This notebook was written by Jéferson Fortunato - for teaching purposes only.\n",
    "\n",
    "First thing first: one needs a model in order to completely specify the inference problem. Here, the concordance model of cosmology, $\\Lambda CDM$ is considered. In this notebook, one aims to estimate the today's value of the Hubble parameter $H_0$, the matter density $\\Omega_{m,0}$ and the energy density of dark energy $\\Omega_{\\Lambda,0}$. Then verify how they are correlated. To implement this estimation, the data used are 41 measures of the Hubble parameter in terms of redshift inferred from de Cosmic Chronometers method. A more detailed explanation about the process and the data can be found in the references at the end."
   ]
  },
  {
   "cell_type": "markdown",
   "metadata": {},
   "source": [
    "The libraries needed are:"
   ]
  },
  {
   "cell_type": "code",
   "execution_count": 1,
   "metadata": {},
   "outputs": [],
   "source": [
    "import pandas as pd\n",
    "import numpy as np\n",
    "import matplotlib.pyplot as plt\n",
    "import getdist\n",
    "from getdist import plots, MCSamples\n",
    "import emcee #the sampler\n",
    "%matplotlib inline\n",
    "%config InlineBackend.figure_format = 'retina'"
   ]
  },
  {
   "cell_type": "markdown",
   "metadata": {},
   "source": [
    "Import the data"
   ]
  },
  {
   "cell_type": "code",
   "execution_count": 2,
   "metadata": {},
   "outputs": [],
   "source": [
    "data = pd.read_csv('data/OHD.dat')"
   ]
  },
  {
   "cell_type": "code",
   "execution_count": 3,
   "metadata": {
    "scrolled": false
   },
   "outputs": [
    {
     "data": {
      "text/html": [
       "<div>\n",
       "<style scoped>\n",
       "    .dataframe tbody tr th:only-of-type {\n",
       "        vertical-align: middle;\n",
       "    }\n",
       "\n",
       "    .dataframe tbody tr th {\n",
       "        vertical-align: top;\n",
       "    }\n",
       "\n",
       "    .dataframe thead th {\n",
       "        text-align: right;\n",
       "    }\n",
       "</style>\n",
       "<table border=\"1\" class=\"dataframe\">\n",
       "  <thead>\n",
       "    <tr style=\"text-align: right;\">\n",
       "      <th></th>\n",
       "      <th>z</th>\n",
       "      <th>H</th>\n",
       "      <th>uH</th>\n",
       "    </tr>\n",
       "  </thead>\n",
       "  <tbody>\n",
       "    <tr>\n",
       "      <th>0</th>\n",
       "      <td>0.0700</td>\n",
       "      <td>69.00</td>\n",
       "      <td>19.600</td>\n",
       "    </tr>\n",
       "    <tr>\n",
       "      <th>1</th>\n",
       "      <td>0.0900</td>\n",
       "      <td>69.00</td>\n",
       "      <td>12.000</td>\n",
       "    </tr>\n",
       "    <tr>\n",
       "      <th>2</th>\n",
       "      <td>0.1200</td>\n",
       "      <td>68.60</td>\n",
       "      <td>26.200</td>\n",
       "    </tr>\n",
       "    <tr>\n",
       "      <th>3</th>\n",
       "      <td>0.1700</td>\n",
       "      <td>83.00</td>\n",
       "      <td>8.000</td>\n",
       "    </tr>\n",
       "    <tr>\n",
       "      <th>4</th>\n",
       "      <td>0.1790</td>\n",
       "      <td>75.00</td>\n",
       "      <td>4.000</td>\n",
       "    </tr>\n",
       "    <tr>\n",
       "      <th>5</th>\n",
       "      <td>0.1990</td>\n",
       "      <td>75.00</td>\n",
       "      <td>5.000</td>\n",
       "    </tr>\n",
       "    <tr>\n",
       "      <th>6</th>\n",
       "      <td>0.2000</td>\n",
       "      <td>72.90</td>\n",
       "      <td>29.600</td>\n",
       "    </tr>\n",
       "    <tr>\n",
       "      <th>7</th>\n",
       "      <td>0.2400</td>\n",
       "      <td>79.69</td>\n",
       "      <td>6.650</td>\n",
       "    </tr>\n",
       "    <tr>\n",
       "      <th>8</th>\n",
       "      <td>0.2700</td>\n",
       "      <td>77.00</td>\n",
       "      <td>14.000</td>\n",
       "    </tr>\n",
       "    <tr>\n",
       "      <th>9</th>\n",
       "      <td>0.2800</td>\n",
       "      <td>88.80</td>\n",
       "      <td>36.600</td>\n",
       "    </tr>\n",
       "    <tr>\n",
       "      <th>10</th>\n",
       "      <td>0.3000</td>\n",
       "      <td>81.70</td>\n",
       "      <td>6.220</td>\n",
       "    </tr>\n",
       "    <tr>\n",
       "      <th>11</th>\n",
       "      <td>0.3500</td>\n",
       "      <td>82.70</td>\n",
       "      <td>8.400</td>\n",
       "    </tr>\n",
       "    <tr>\n",
       "      <th>12</th>\n",
       "      <td>0.3520</td>\n",
       "      <td>83.00</td>\n",
       "      <td>14.000</td>\n",
       "    </tr>\n",
       "    <tr>\n",
       "      <th>13</th>\n",
       "      <td>0.3802</td>\n",
       "      <td>83.00</td>\n",
       "      <td>13.500</td>\n",
       "    </tr>\n",
       "    <tr>\n",
       "      <th>14</th>\n",
       "      <td>0.4000</td>\n",
       "      <td>95.00</td>\n",
       "      <td>17.000</td>\n",
       "    </tr>\n",
       "    <tr>\n",
       "      <th>15</th>\n",
       "      <td>0.4004</td>\n",
       "      <td>77.00</td>\n",
       "      <td>10.200</td>\n",
       "    </tr>\n",
       "    <tr>\n",
       "      <th>16</th>\n",
       "      <td>0.4247</td>\n",
       "      <td>87.10</td>\n",
       "      <td>11.200</td>\n",
       "    </tr>\n",
       "    <tr>\n",
       "      <th>17</th>\n",
       "      <td>0.4300</td>\n",
       "      <td>86.45</td>\n",
       "      <td>3.680</td>\n",
       "    </tr>\n",
       "    <tr>\n",
       "      <th>18</th>\n",
       "      <td>0.4400</td>\n",
       "      <td>82.60</td>\n",
       "      <td>7.800</td>\n",
       "    </tr>\n",
       "    <tr>\n",
       "      <th>19</th>\n",
       "      <td>0.4497</td>\n",
       "      <td>92.80</td>\n",
       "      <td>12.900</td>\n",
       "    </tr>\n",
       "    <tr>\n",
       "      <th>20</th>\n",
       "      <td>0.4783</td>\n",
       "      <td>80.90</td>\n",
       "      <td>9.000</td>\n",
       "    </tr>\n",
       "    <tr>\n",
       "      <th>21</th>\n",
       "      <td>0.4800</td>\n",
       "      <td>97.00</td>\n",
       "      <td>62.000</td>\n",
       "    </tr>\n",
       "    <tr>\n",
       "      <th>22</th>\n",
       "      <td>0.5700</td>\n",
       "      <td>92.90</td>\n",
       "      <td>7.855</td>\n",
       "    </tr>\n",
       "    <tr>\n",
       "      <th>23</th>\n",
       "      <td>0.5930</td>\n",
       "      <td>104.00</td>\n",
       "      <td>13.000</td>\n",
       "    </tr>\n",
       "    <tr>\n",
       "      <th>24</th>\n",
       "      <td>0.6000</td>\n",
       "      <td>87.90</td>\n",
       "      <td>6.100</td>\n",
       "    </tr>\n",
       "    <tr>\n",
       "      <th>25</th>\n",
       "      <td>0.6800</td>\n",
       "      <td>92.00</td>\n",
       "      <td>8.000</td>\n",
       "    </tr>\n",
       "    <tr>\n",
       "      <th>26</th>\n",
       "      <td>0.7300</td>\n",
       "      <td>97.30</td>\n",
       "      <td>7.000</td>\n",
       "    </tr>\n",
       "    <tr>\n",
       "      <th>27</th>\n",
       "      <td>0.7810</td>\n",
       "      <td>105.00</td>\n",
       "      <td>12.000</td>\n",
       "    </tr>\n",
       "    <tr>\n",
       "      <th>28</th>\n",
       "      <td>0.8750</td>\n",
       "      <td>125.00</td>\n",
       "      <td>17.000</td>\n",
       "    </tr>\n",
       "    <tr>\n",
       "      <th>29</th>\n",
       "      <td>0.8800</td>\n",
       "      <td>90.00</td>\n",
       "      <td>40.000</td>\n",
       "    </tr>\n",
       "    <tr>\n",
       "      <th>30</th>\n",
       "      <td>0.9000</td>\n",
       "      <td>117.00</td>\n",
       "      <td>23.000</td>\n",
       "    </tr>\n",
       "    <tr>\n",
       "      <th>31</th>\n",
       "      <td>1.0370</td>\n",
       "      <td>154.00</td>\n",
       "      <td>20.000</td>\n",
       "    </tr>\n",
       "    <tr>\n",
       "      <th>32</th>\n",
       "      <td>1.3000</td>\n",
       "      <td>168.00</td>\n",
       "      <td>17.000</td>\n",
       "    </tr>\n",
       "    <tr>\n",
       "      <th>33</th>\n",
       "      <td>1.3630</td>\n",
       "      <td>160.00</td>\n",
       "      <td>22.600</td>\n",
       "    </tr>\n",
       "    <tr>\n",
       "      <th>34</th>\n",
       "      <td>1.4300</td>\n",
       "      <td>177.00</td>\n",
       "      <td>18.000</td>\n",
       "    </tr>\n",
       "    <tr>\n",
       "      <th>35</th>\n",
       "      <td>1.5300</td>\n",
       "      <td>140.00</td>\n",
       "      <td>14.000</td>\n",
       "    </tr>\n",
       "    <tr>\n",
       "      <th>36</th>\n",
       "      <td>1.7500</td>\n",
       "      <td>202.00</td>\n",
       "      <td>40.000</td>\n",
       "    </tr>\n",
       "    <tr>\n",
       "      <th>37</th>\n",
       "      <td>1.9650</td>\n",
       "      <td>186.50</td>\n",
       "      <td>50.400</td>\n",
       "    </tr>\n",
       "    <tr>\n",
       "      <th>38</th>\n",
       "      <td>2.3000</td>\n",
       "      <td>224.00</td>\n",
       "      <td>8.000</td>\n",
       "    </tr>\n",
       "    <tr>\n",
       "      <th>39</th>\n",
       "      <td>2.3400</td>\n",
       "      <td>222.00</td>\n",
       "      <td>7.000</td>\n",
       "    </tr>\n",
       "    <tr>\n",
       "      <th>40</th>\n",
       "      <td>2.3600</td>\n",
       "      <td>226.00</td>\n",
       "      <td>8.000</td>\n",
       "    </tr>\n",
       "  </tbody>\n",
       "</table>\n",
       "</div>"
      ],
      "text/plain": [
       "         z       H      uH\n",
       "0   0.0700   69.00  19.600\n",
       "1   0.0900   69.00  12.000\n",
       "2   0.1200   68.60  26.200\n",
       "3   0.1700   83.00   8.000\n",
       "4   0.1790   75.00   4.000\n",
       "5   0.1990   75.00   5.000\n",
       "6   0.2000   72.90  29.600\n",
       "7   0.2400   79.69   6.650\n",
       "8   0.2700   77.00  14.000\n",
       "9   0.2800   88.80  36.600\n",
       "10  0.3000   81.70   6.220\n",
       "11  0.3500   82.70   8.400\n",
       "12  0.3520   83.00  14.000\n",
       "13  0.3802   83.00  13.500\n",
       "14  0.4000   95.00  17.000\n",
       "15  0.4004   77.00  10.200\n",
       "16  0.4247   87.10  11.200\n",
       "17  0.4300   86.45   3.680\n",
       "18  0.4400   82.60   7.800\n",
       "19  0.4497   92.80  12.900\n",
       "20  0.4783   80.90   9.000\n",
       "21  0.4800   97.00  62.000\n",
       "22  0.5700   92.90   7.855\n",
       "23  0.5930  104.00  13.000\n",
       "24  0.6000   87.90   6.100\n",
       "25  0.6800   92.00   8.000\n",
       "26  0.7300   97.30   7.000\n",
       "27  0.7810  105.00  12.000\n",
       "28  0.8750  125.00  17.000\n",
       "29  0.8800   90.00  40.000\n",
       "30  0.9000  117.00  23.000\n",
       "31  1.0370  154.00  20.000\n",
       "32  1.3000  168.00  17.000\n",
       "33  1.3630  160.00  22.600\n",
       "34  1.4300  177.00  18.000\n",
       "35  1.5300  140.00  14.000\n",
       "36  1.7500  202.00  40.000\n",
       "37  1.9650  186.50  50.400\n",
       "38  2.3000  224.00   8.000\n",
       "39  2.3400  222.00   7.000\n",
       "40  2.3600  226.00   8.000"
      ]
     },
     "execution_count": 3,
     "metadata": {},
     "output_type": "execute_result"
    }
   ],
   "source": [
    "data"
   ]
  },
  {
   "cell_type": "markdown",
   "metadata": {},
   "source": [
    "Plotting the data:"
   ]
  },
  {
   "cell_type": "code",
   "execution_count": null,
   "metadata": {
    "scrolled": true
   },
   "outputs": [
    {
     "data": {
      "text/plain": [
       "(0.0, 2.0)"
      ]
     },
     "execution_count": 24,
     "metadata": {},
     "output_type": "execute_result"
    }
   ],
   "source": [
    "data.plot(x='z', y='H', yerr='uH', fmt='D',\n",
    "           legend=True, grid = bool, color='green')#colormap='tab20c')\n",
    "plt.ylabel('H(z)')\n",
    "plt.xlim(0, 2)"
   ]
  },
  {
   "cell_type": "markdown",
   "metadata": {},
   "source": [
    "The model used is mathematically written as:\n",
    "\n",
    "$$H(z)^2=H+0\\left[\\Omega_{m0}\\left(1+z\\right)^3+\\Omega_{k,0}\\left(1+z\\right)^2+\\Omega_{\\Lambda,0}\\right],$$\n",
    "\n",
    "where $H_0=h\\cdot 100\\cdot km\\cdot s^{-1}\\cdot Mpc^{-1}$, with the following constraint:\n",
    "\n",
    "$$\\Omega_{m,0}+\\Omega_{\\Lambda,0}+\\Omega_{k,0}=1.$$\n",
    "\n",
    "The curvature parameter is going to be written in term of the other components. Then the free parameters are: $\\{h,\\Omega_{m,0}, \\Omega_{\\Lambda,0}\\}$."
   ]
  },
  {
   "cell_type": "code",
   "execution_count": 5,
   "metadata": {},
   "outputs": [],
   "source": [
    "def Hubble(z, h, Om, Ol):\n",
    "    \n",
    "    Ok = 1 - Om - Ol\n",
    "    \n",
    "    Esq = Om*(1+z)**3 + Ok*(1+z)**2 + Ol\n",
    "    \n",
    "    if np.all(Esq > 0) and h > 0:\n",
    "        \n",
    "        H = h*100\n",
    "    \n",
    "        return H*np.sqrt(Esq)\n",
    "    \n",
    "    return 0"
   ]
  },
  {
   "cell_type": "markdown",
   "metadata": {},
   "source": [
    "One considers the parameters to be gaussian distributed, and following the chi-square statistics, one has the likelihood function:\n",
    "\n",
    "$$L \\propto \\exp\\left[-\\sum\\frac{\\left(H(z_i)-H_i\\right)^2}{2\\sigma_i^2}\\right],$$\n",
    "\n",
    "where, $H(z_i)$ is evaluated for every value of $z_i$ in the data, $H_i$ are the Hubble parameter values measured by the experiments, and $\\sigma_i$ the errors associated with the measurements."
   ]
  },
  {
   "cell_type": "code",
   "execution_count": 6,
   "metadata": {},
   "outputs": [],
   "source": [
    "def chisq(h, Om, Ol):\n",
    "    \n",
    "    chi = (Hubble(data.z, h, Om, Ol) - data.H)/data.uH\n",
    "    \n",
    "    return chi@chi\n"
   ]
  },
  {
   "cell_type": "code",
   "execution_count": 8,
   "metadata": {},
   "outputs": [],
   "source": [
    "def log_prob(x):\n",
    "    \n",
    "    h, Om, Ol = x\n",
    "    \n",
    "    x = -0.5*chisq(h, Om, Ol)\n",
    "    \n",
    "    if np.isfinite(x):\n",
    "        return x\n",
    "    \n",
    "    return -np.inf\n"
   ]
  },
  {
   "cell_type": "markdown",
   "metadata": {},
   "source": [
    "Setting up the sampler:"
   ]
  },
  {
   "cell_type": "code",
   "execution_count": 9,
   "metadata": {},
   "outputs": [],
   "source": [
    "ndim, nwalkers = 3, 100\n",
    "p0 = np.random.random(size=(nwalkers, ndim))"
   ]
  },
  {
   "cell_type": "code",
   "execution_count": 10,
   "metadata": {},
   "outputs": [
    {
     "data": {
      "text/plain": [
       "(100, 3)"
      ]
     },
     "execution_count": 10,
     "metadata": {},
     "output_type": "execute_result"
    }
   ],
   "source": [
    "p0.shape"
   ]
  },
  {
   "cell_type": "code",
   "execution_count": 11,
   "metadata": {},
   "outputs": [],
   "source": [
    "sampler = emcee.EnsembleSampler(nwalkers, ndim, log_prob,\n",
    "                                threads=4)"
   ]
  },
  {
   "cell_type": "markdown",
   "metadata": {},
   "source": [
    "Running the sampler:"
   ]
  },
  {
   "cell_type": "code",
   "execution_count": 12,
   "metadata": {},
   "outputs": [
    {
     "name": "stderr",
     "output_type": "stream",
     "text": [
      "100%|██████████| 1000/1000 [04:56<00:00,  3.37it/s]\n"
     ]
    },
    {
     "data": {
      "text/plain": [
       "State([[0.67594521 0.25487633 0.65877916]\n",
       " [0.61855099 0.19799267 0.32513992]\n",
       " [0.6161042  0.22078236 0.29535247]\n",
       " [0.60588891 0.11831827 0.14399973]\n",
       " [0.69902985 0.26593491 0.72209825]\n",
       " [0.66629204 0.29885835 0.7314392 ]\n",
       " [0.64766253 0.25097895 0.54860827]\n",
       " [0.6708239  0.23080457 0.60408595]\n",
       " [0.68490296 0.27259944 0.67721157]\n",
       " [0.68500588 0.2793456  0.70100267]\n",
       " [0.64224654 0.22606667 0.45603702]\n",
       " [0.69339258 0.26325818 0.71309923]\n",
       " [0.64973348 0.17823337 0.41538235]\n",
       " [0.70410704 0.19369422 0.59489043]\n",
       " [0.69409088 0.189599   0.5628087 ]\n",
       " [0.6861169  0.21826741 0.6188296 ]\n",
       " [0.64245553 0.20224739 0.46250678]\n",
       " [0.65735765 0.26399762 0.60510202]\n",
       " [0.61129538 0.22592146 0.33110121]\n",
       " [0.65186544 0.24564671 0.51457072]\n",
       " [0.64615502 0.15958614 0.37804279]\n",
       " [0.59746453 0.15135047 0.09932958]\n",
       " [0.66665767 0.26144347 0.62783346]\n",
       " [0.7178607  0.30733523 0.89815334]\n",
       " [0.65230543 0.15604477 0.3042109 ]\n",
       " [0.6740495  0.15789973 0.44546852]\n",
       " [0.65410471 0.19371319 0.50491904]\n",
       " [0.67420856 0.17653022 0.49373999]\n",
       " [0.66033967 0.26325196 0.61650371]\n",
       " [0.67079195 0.18468378 0.52117662]\n",
       " [0.66813326 0.19007364 0.46781295]\n",
       " [0.64453442 0.11511118 0.2507768 ]\n",
       " [0.68652556 0.28672497 0.73912144]\n",
       " [0.62419528 0.16718666 0.2147096 ]\n",
       " [0.64788996 0.25437905 0.50607461]\n",
       " [0.62783775 0.21254906 0.36184483]\n",
       " [0.65410113 0.23674647 0.46253173]\n",
       " [0.67489259 0.18860268 0.52720957]\n",
       " [0.59746397 0.23080791 0.26209794]\n",
       " [0.65301532 0.25760378 0.53267242]\n",
       " [0.7084095  0.24591002 0.79234318]\n",
       " [0.70670933 0.2887567  0.85366613]\n",
       " [0.67498777 0.2565801  0.68999183]\n",
       " [0.67767677 0.22883269 0.58626878]\n",
       " [0.6581851  0.09137467 0.25386784]\n",
       " [0.67969992 0.22057188 0.57629284]\n",
       " [0.68416087 0.16991048 0.47774983]\n",
       " [0.69636086 0.28367539 0.73414443]\n",
       " [0.69256058 0.30770535 0.79033504]\n",
       " [0.66977642 0.15620961 0.47427904]\n",
       " [0.67237226 0.29607675 0.66116587]\n",
       " [0.67101369 0.208862   0.50478427]\n",
       " [0.72247833 0.35308572 0.99631255]\n",
       " [0.68288525 0.1992205  0.58564082]\n",
       " [0.74974053 0.31217478 1.02201946]\n",
       " [0.68360479 0.25737021 0.63826302]\n",
       " [0.67309107 0.21128169 0.56789509]\n",
       " [0.65336125 0.18719813 0.51139777]\n",
       " [0.64193841 0.17368926 0.28558655]\n",
       " [0.71441129 0.34307096 0.92769808]\n",
       " [0.62863947 0.36282263 0.71275773]\n",
       " [0.64173136 0.2252855  0.48987972]\n",
       " [0.70748576 0.27982233 0.84307184]\n",
       " [0.71515623 0.24395772 0.72636578]\n",
       " [0.71495388 0.29990125 0.86057082]\n",
       " [0.69653542 0.26331943 0.77556899]\n",
       " [0.67932245 0.29176251 0.67181982]\n",
       " [0.67671853 0.21939723 0.57608007]\n",
       " [0.68904945 0.27574641 0.67007862]\n",
       " [0.70651723 0.29266108 0.85680631]\n",
       " [0.66933778 0.23287082 0.62691263]\n",
       " [0.67425668 0.17076748 0.42607612]\n",
       " [0.72683961 0.23188875 0.74449914]\n",
       " [0.73476275 0.32371754 0.95958633]\n",
       " [0.64930771 0.28758682 0.58622353]\n",
       " [0.64905569 0.22885877 0.49857102]\n",
       " [0.73575764 0.34699213 1.00654614]\n",
       " [0.6331813  0.16195487 0.35138727]\n",
       " [0.64372634 0.2323203  0.51474079]\n",
       " [0.65569449 0.16211489 0.39281524]\n",
       " [0.6571995  0.20374196 0.45682179]\n",
       " [0.70190058 0.29034878 0.75960134]\n",
       " [0.62145799 0.12665311 0.22235904]\n",
       " [0.71566143 0.25742588 0.76152198]\n",
       " [0.67678847 0.18027197 0.47679341]\n",
       " [0.7266461  0.21340669 0.71058179]\n",
       " [0.64108072 0.11801502 0.26607371]\n",
       " [0.68756281 0.23715755 0.6736198 ]\n",
       " [0.65871085 0.22282772 0.48977645]\n",
       " [0.647305   0.16825169 0.36547711]\n",
       " [0.67324435 0.25025587 0.6461346 ]\n",
       " [0.60403977 0.17277721 0.20154209]\n",
       " [0.71065744 0.26031461 0.77231434]\n",
       " [0.66419923 0.27389663 0.66385495]\n",
       " [0.65698202 0.27980906 0.61780996]\n",
       " [0.6894346  0.22777921 0.64496196]\n",
       " [0.66183501 0.20559436 0.48578099]\n",
       " [0.65120779 0.26600524 0.61451503]\n",
       " [0.6871848  0.29057996 0.77827306]\n",
       " [0.66307011 0.31100674 0.68941874]], log_prob=[ -9.35597703 -10.83247559 -11.53484305 -12.71317133  -9.69927976\n",
       " -11.13063021 -10.11765363  -9.44271964 -10.15422338  -9.94350801\n",
       "  -9.9025197   -9.34514893  -9.99640551 -11.03859671 -10.52416088\n",
       "  -9.37409951 -10.61735703  -9.94956564 -11.44057149 -10.04258451\n",
       " -10.62811686 -11.60504043  -9.59254543 -10.19866514 -11.9852542\n",
       " -10.81596489 -11.04540951 -10.13313983  -9.84461791 -10.19335564\n",
       " -10.01728397 -11.70806514  -9.75332717 -11.46801674 -10.54664481\n",
       " -10.38862989 -11.55561265  -9.85742614 -12.47615455 -10.44147146\n",
       " -10.99062745 -10.36147793 -10.15000444  -9.3940295  -13.53779141\n",
       "  -9.47813791 -11.24832699 -10.4306161  -10.42897718 -11.50619657\n",
       " -11.65813699 -10.03573807 -12.25917408  -9.88422427 -11.88225566\n",
       " -10.16590046  -9.45396774 -12.45008128 -12.09303672 -11.81631422\n",
       " -17.16847825 -10.27656604 -10.39958732 -10.174007    -9.92353568\n",
       " -10.0970584  -11.72821492  -9.31299797 -11.59576124 -10.29654839\n",
       " -10.19058159 -11.61937728 -10.65970691 -10.93224558 -11.14591676\n",
       "  -9.68885456 -12.01315521 -11.39661892 -10.35344094 -10.25907716\n",
       "  -9.7443434  -10.83073577 -11.91895562  -9.82505039 -10.49881559\n",
       " -11.20674948 -11.68444643  -9.35791521  -9.89444255 -10.10343626\n",
       "  -9.42181516 -11.37678756  -9.38546701 -10.1283585  -10.36611091\n",
       "  -9.27909122  -9.56726344 -10.80551825 -10.02766737 -11.39839229], blobs=None, random_state=('MT19937', array([2862352118, 3096947337, 2124311289,  989013983,  164006888,\n",
       "       1479256974, 4143059933,    7544650, 3893250033,  243191981,\n",
       "       2085410727, 4145593491, 3530053133,  825014904, 3041647792,\n",
       "        659720760,  947760133, 2454262601, 3587847368, 1462082970,\n",
       "       2063169797,  812116620,  581564774, 2132438126, 3418053928,\n",
       "       1045718023, 3601520162, 2889247205,  509211167, 2436372448,\n",
       "       2671189308,  667789605, 1009916552, 4289374060,  253317292,\n",
       "       2527101498, 4161850920, 3555324520, 2149267313, 4055647121,\n",
       "        349482988, 2277289181, 4252184312,  368453459, 3909744331,\n",
       "       3084984716, 1006016471, 3804946252, 3921627358, 3566259486,\n",
       "       2838217205, 2056338050, 2424468606, 2994653557, 1831481823,\n",
       "       1721341785, 3194960163, 1065566798, 3729768317, 1215976597,\n",
       "        695268562, 3400754723, 2301315010, 1015817598, 2627113698,\n",
       "       3201261455,  836426900, 2087191659, 3233848836, 3678883950,\n",
       "       2587178377,  465909358, 1752527624, 1148852232, 1911582012,\n",
       "       3157562610, 4187782503,  979645622, 1444808194, 2491392849,\n",
       "       3621258220, 1622745891, 1066267882, 1706206156, 2037287586,\n",
       "       1891286891, 1809499894, 2622926271, 1658858165, 3960902535,\n",
       "        752029441, 3149535923, 1184265150, 2660353095,  431666014,\n",
       "       3129773172,  579127562, 1752839179,  457429963, 1136893716,\n",
       "       4197398895, 2580929861, 3572753562, 1553249405,  815945437,\n",
       "       2245418580, 1934394706,   92692675, 2647573375,  509642115,\n",
       "        662596868, 2631470635, 2266740670, 2820315773, 4194324361,\n",
       "        775918711,  442602024, 3516053472, 2321392749, 3233693468,\n",
       "       3786403602,  928744508, 1011719264,  634611572, 1033917750,\n",
       "       2719173701,  912997142, 1178503301, 2990667807, 3161020760,\n",
       "        555634487, 2037984744, 2527405156, 3366264846, 1662018667,\n",
       "       2450501233, 3098919979, 1375761344, 1644650625, 3140501995,\n",
       "       2821493197,  157408226, 1383848499, 1319221610, 1900217417,\n",
       "       3086791186,  593986688, 1313347981, 2843831559,  356473795,\n",
       "       2826612488, 3745864230, 3448487248,  199678165,  332809188,\n",
       "        863128028, 1287741075, 4116321743, 2085982420, 1401265830,\n",
       "       4275899246, 4057455136, 1422402039, 1265898177, 3802095537,\n",
       "       3504520343, 2790124252, 2247552435,  622378498, 3032774844,\n",
       "       3396548157, 1207304483, 3060772709, 1327622081, 2025961243,\n",
       "       1121693866,  950421461, 2281478690, 3466718249, 3970007665,\n",
       "       2354044668,   69724968, 2466921357,  724550147, 1290255255,\n",
       "       2362135841, 1401647544,  833775117, 2148913965, 3869273712,\n",
       "       2892910398, 3678020443, 1226370406, 2770703504, 3002679137,\n",
       "       3908029687, 1089269053, 1706596390, 2686847066, 2281182186,\n",
       "       1995919630, 3586051259, 1458512695,   53533881, 3131038595,\n",
       "       3418398661, 2983538127, 3369690469, 1285621545,   62735552,\n",
       "         52009650, 1063761852, 1915433019, 3283062805, 2016025876,\n",
       "        471496014, 1465038397, 2025952956, 2459031701,  242855072,\n",
       "       4122604290,  132529581, 1872488910, 1584659811,   50565540,\n",
       "       1173928655, 2251738961, 3466233174,   30695873, 1516137847,\n",
       "       3152775646, 3771388956,  810112873, 4197228531,  454866788,\n",
       "       3563145923,  362159086, 3210015529, 3334784188, 3540476314,\n",
       "        591011685,  479991560, 3991010669, 4084896329, 2045261191,\n",
       "        574901402, 1913948356, 2383555674, 1676024969, 2511257405,\n",
       "       3587578697, 1000864293, 2271308563, 2239566961, 2100586951,\n",
       "       3752938922, 1103745467,  967423545, 3870349478,   30256783,\n",
       "       3833461535, 1333330802, 1335303227, 2436598682, 1547131631,\n",
       "        767809219,  445372387,  843867887,  891597117,  421054078,\n",
       "       1602174750, 1569800382, 2802384148,   80344559, 2258332507,\n",
       "       1045088213, 2693975594, 2522275966, 3336558539,  315941144,\n",
       "        668673463, 3133877127, 2765556878, 4050187454, 3988981455,\n",
       "       1821021898, 3243232461, 4279964317, 3832977703,  494719104,\n",
       "       2665003606, 2636161830, 3894976451, 2168122660, 3323862957,\n",
       "       2861504670, 2203272858,  695917520, 4058253647, 4260701616,\n",
       "       3959158687, 3427902769, 3233085644, 3520084236, 1950985834,\n",
       "       1002770123,  722103311, 1240669443,  873304195, 1148091336,\n",
       "       3422659656, 4176932681, 4177726794, 3582091676, 3871646184,\n",
       "       1192474742,  938949857, 3841986333,  978662511, 1615715717,\n",
       "        120520345,  602109525, 2301601353,  545854615, 1758743410,\n",
       "        302797712, 1572170580, 2983731153, 1626894055,  756099772,\n",
       "       1806722140, 3181248006,  435631862, 2865218068, 1865293752,\n",
       "       1854028948,  881619464, 1480300809, 4213907618, 2355769550,\n",
       "       4157726944, 2778740207, 3287810919,  121722386, 1633975771,\n",
       "        919142741, 2847482699, 3024033879, 3269243988, 1957545462,\n",
       "       3367783418, 4180554954, 1462903836, 3381975845, 2817883402,\n",
       "        875510148,  136569110, 2006777727, 3531106607, 3073378070,\n",
       "        354604273, 2929844089,   64317851,  619250209, 3480885697,\n",
       "       1720572386, 4232370943, 2130102657, 3418372082, 3791281938,\n",
       "         89892039, 3182064039, 1018431774,  858390617,  401775455,\n",
       "       3526136374,  348158115, 2611432251, 3455742232, 2413025698,\n",
       "       3336522252,  598964432,  283964719, 2943862435, 2316005364,\n",
       "       2371524200, 2451258348, 3877951896, 3489559056, 1881850094,\n",
       "        472486051, 1808532455,  194757717, 3273271415, 2246426113,\n",
       "        274100016, 2151020015, 2102163675, 2187464734, 1396169300,\n",
       "       1935782443,  253868464, 2895554105, 3346911541, 3670264465,\n",
       "       1768926713, 2807632051, 3173240520,  906621120, 3309533263,\n",
       "        389120529,  484763766, 1909877741,  956012286, 2851215939,\n",
       "       1945238271, 3475804287, 1639587903,  862169392, 3816052010,\n",
       "       3560787904, 1092082789,  444224961, 4071290991,  506237704,\n",
       "       3390374498, 3472725530,  670218504,  743419481, 4026289445,\n",
       "       2072816227, 3557388957, 2092492396, 2503785854,     976439,\n",
       "       4044148023, 2645720733, 1157036196,  833422299, 1707629518,\n",
       "       1405853029, 1330922187, 3668871665, 1935708010, 4094059005,\n",
       "       1247600023,  726074258,  714480106, 2367167000,   11570624,\n",
       "        104114152, 2813262747, 2291285678, 2742817387, 1023046038,\n",
       "       2791270513, 3642515301,  480168026, 4035980709, 4081348639,\n",
       "       3554666534, 1075746504, 1978216965, 1472414255, 2686306716,\n",
       "        447648105,  502463156,  972033670,  608573916, 2049249903,\n",
       "       3284210935, 2253038103,  668723028, 4154375160, 2537441907,\n",
       "       3699687025, 2889912877,  169450230, 3103139238,  559732122,\n",
       "       3029553901,  868317821, 2747599068, 3247453868, 3944794085,\n",
       "       1840130633, 4114632189, 3918381555, 3092121237, 3293776668,\n",
       "        600488184, 2092925280, 1791598484, 2587950638, 2300794546,\n",
       "       1174902814, 2291794688, 3562042976, 4247107442, 3153077812,\n",
       "        999204682, 3596137867, 3810774770, 3322735206,  148930963,\n",
       "        668573617,  483000239, 2257727762, 2163967977, 3939155328,\n",
       "        806746622, 3792598115,  380843090, 1518472477,   15146796,\n",
       "       1602754495, 2048236785,  991561241,   49874042, 1780475442,\n",
       "       1073693107, 1298241192, 1163860179, 1528892203, 2678307910,\n",
       "       3390491444, 2376384293, 1066597388, 3859693989, 1672783802,\n",
       "       2882831500,  222206065, 1293886894, 1579338819, 3093176516,\n",
       "       3269816233,   72104763, 3500459163,  692905782, 1158825573,\n",
       "       4054632014, 3765851263, 3881500061, 2384304674, 1016049783,\n",
       "       1268849336,  353448052,  915329714, 1548244752,  437622269,\n",
       "       3927145427, 1696521336, 2323263968, 1456283493, 1835423824,\n",
       "       2861716172,  448773292, 2181187457, 4056924424,  293331902,\n",
       "       3724970259, 3708324006, 4061048693,  632259579, 3855413789,\n",
       "        578393846, 3000856332, 2436805991, 3512314774,  576273191,\n",
       "        392150599, 2130944758, 1213478149, 1217343938, 3183798477,\n",
       "       1229506049, 1815778825, 1665922308, 2927546939, 4227923812,\n",
       "        551223610, 1601225658, 3036492187, 1382630211, 2514682076,\n",
       "       1938441904, 2507120852, 2997332420, 1034978819,  867255711,\n",
       "       1507672406,  221301474, 4037269438, 4106651214, 1227818874,\n",
       "        909602036,  696285443, 2308596174, 4286390968, 2282880648,\n",
       "       3878753320, 3523569302, 3994836351,  782394923, 1576895352,\n",
       "       2342062824, 1335448561, 1672665370,  731819661,  603846126,\n",
       "       2625979537, 1860392977, 1212573459,  766523552, 1507870846,\n",
       "        698122951, 3030026209, 1276424926, 1454190846, 1466461045,\n",
       "        370367339, 1967640114, 3843534463, 3581671060], dtype=uint32), 77, 0, 0.0))"
      ]
     },
     "execution_count": 12,
     "metadata": {},
     "output_type": "execute_result"
    }
   ],
   "source": [
    "sampler.run_mcmc(p0, 1000, progress=True)"
   ]
  },
  {
   "cell_type": "code",
   "execution_count": 13,
   "metadata": {},
   "outputs": [],
   "source": [
    "sample = sampler.get_chain(flat=True)"
   ]
  },
  {
   "cell_type": "code",
   "execution_count": 14,
   "metadata": {},
   "outputs": [],
   "source": [
    "sample[:,0] = sample[:,0]*100"
   ]
  },
  {
   "cell_type": "code",
   "execution_count": 15,
   "metadata": {},
   "outputs": [],
   "source": [
    "n, dim = sample.shape"
   ]
  },
  {
   "cell_type": "code",
   "execution_count": 16,
   "metadata": {},
   "outputs": [],
   "source": [
    "nsample = sample[n//5:]"
   ]
  },
  {
   "cell_type": "code",
   "execution_count": 17,
   "metadata": {},
   "outputs": [
    {
     "data": {
      "text/plain": [
       "20000"
      ]
     },
     "execution_count": 17,
     "metadata": {},
     "output_type": "execute_result"
    }
   ],
   "source": [
    "n//5"
   ]
  },
  {
   "cell_type": "code",
   "execution_count": 18,
   "metadata": {},
   "outputs": [
    {
     "data": {
      "text/plain": [
       "array([[77.2144451 ,  0.30677531,  1.00585308],\n",
       "       [58.9391675 ,  0.15070892,  0.10041274],\n",
       "       [67.12398122,  0.23319441,  0.5382289 ],\n",
       "       ...,\n",
       "       [65.12077944,  0.26600524,  0.61451503],\n",
       "       [68.71848012,  0.29057996,  0.77827306],\n",
       "       [66.30701079,  0.31100674,  0.68941874]])"
      ]
     },
     "execution_count": 18,
     "metadata": {},
     "output_type": "execute_result"
    }
   ],
   "source": [
    "nsample"
   ]
  },
  {
   "cell_type": "code",
   "execution_count": 19,
   "metadata": {},
   "outputs": [],
   "source": [
    "from matplotlib import rc\n",
    "rc('font',**{'family':'sans-serif','sans-serif':['Helvetica']})\n",
    "rc('text', usetex=True)"
   ]
  },
  {
   "cell_type": "code",
   "execution_count": 20,
   "metadata": {},
   "outputs": [
    {
     "name": "stdout",
     "output_type": "stream",
     "text": [
      "Removed no burn in\n"
     ]
    }
   ],
   "source": [
    "names = [ 'H(z)', r'\\Omega_m', r'\\Omega_\\Lambda']\n",
    "labels = [ 'H(z)', r'\\Omega_m', r'\\Omega_\\Lambda']\n",
    "samples = MCSamples(samples=nsample, names = names, labels = labels)"
   ]
  },
  {
   "cell_type": "code",
   "execution_count": 21,
   "metadata": {
    "scrolled": true
   },
   "outputs": [
    {
     "name": "stderr",
     "output_type": "stream",
     "text": [
      "WARNING:root:fine_bins_2D not large enough for optimal density\n",
      "WARNING:root:fine_bins_2D not large enough for optimal density\n"
     ]
    },
    {
     "data": {
      "image/png": "[encoded data removed]",
      "text/plain": [
       "<Figure size 360x360 with 6 Axes>"
      ]
     },
     "metadata": {
      "image/png": {
       "height": 352,
       "width": 359
      },
      "needs_background": "light"
     },
     "output_type": "display_data"
    }
   ],
   "source": [
    "g = plots.get_subplot_plotter(15,5)\n",
    "g.settings.num_plot_contours = 2\n",
    "g.triangle_plot([samples], filled=True, colors=['green'],\n",
    "                contour_colors = ['green'], markers={'alpha':27})"
   ]
  },
  {
   "cell_type": "code",
   "execution_count": 22,
   "metadata": {},
   "outputs": [],
   "source": [
    "def constraints(samples):\n",
    "    for i, mean in enumerate(samples.getMeans()):\n",
    "        upper = samples.confidence(i, upper=True, limfrac=0.05)\n",
    "        lower = samples.confidence(i, upper=False, limfrac=0.05)\n",
    "        print(\"%s = %f +/- %f\" % (samples.parLabel(i),\\\n",
    "\n",
    "        mean, mean - samples.confidence(i, limfrac=0.025)) )\n",
    "    return"
   ]
  },
  {
   "cell_type": "code",
   "execution_count": 23,
   "metadata": {},
   "outputs": [
    {
     "name": "stdout",
     "output_type": "stream",
     "text": [
      "H(z) = 67.530111 +/- 8.106603\n",
      "\\Omega_m = 0.231724 +/- 0.116895\n",
      "\\Omega_\\Lambda = 0.587189 +/- 0.529929\n"
     ]
    }
   ],
   "source": [
    "constraints(samples)"
   ]
  },
  {
   "cell_type": "markdown",
   "metadata": {},
   "source": [
    "### References \n",
    "\n",
    "FORTUNATO, J. A. S. Vínculos observacionais para modelos de energia escura através de Cronômetros Cósmicos, SNIa, BAO e FRB. 117 p. Dissertação (Mestrado em Física) — Universidade Federal de Campina Grande, Paraíba, 2021.\n",
    "\n",
    "SANTOS, M. V. bayesian-methods-with-python. mvsantosdev, 2020. Disponível em: <https://github.com/mvsantosdev/bayesian-methods-with-python>.\n",
    "\n",
    "TROTTA, R. Bayes in the sky: Bayesian inference and model selection in cosmology. Contemp.Phys.49:71-104,2008, v. 1, p. 41, 2008.\n",
    "\n",
    "PADILLA, L. E. et al. Cosmological parameter inference with bayesian statistics. arXiv preprint arXiv:1903.11127, 2019."
   ]
  }
 ],
 "metadata": {
  "kernelspec": {
   "display_name": "Python 3",
   "language": "python",
   "name": "python3"
  },
  "language_info": {
   "codemirror_mode": {
    "name": "ipython",
    "version": 3
   },
   "file_extension": ".py",
   "mimetype": "text/x-python",
   "name": "python",
   "nbconvert_exporter": "python",
   "pygments_lexer": "ipython3",
   "version": "3.7.3"
  }
 },
 "nbformat": 4,
 "nbformat_minor": 2
}
